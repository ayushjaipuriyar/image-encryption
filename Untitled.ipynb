{
 "cells": [
  {
   "cell_type": "code",
   "execution_count": 1,
   "id": "54724440",
   "metadata": {},
   "outputs": [],
   "source": [
    "from PIL import Image \n",
    "import random\n",
    "from numpy import array \n",
    "import numpy as np\n",
    "img = Image.open('Lena.png')\n",
    "\n",
    "ar = array(img)"
   ]
  },
  {
   "cell_type": "code",
   "execution_count": 2,
   "id": "2d955691",
   "metadata": {
    "scrolled": true
   },
   "outputs": [
    {
     "data": {
      "text/plain": [
       "array([[22, 22,  7, ..., 49, 49,  2],\n",
       "       [22, 22,  7, ..., 52, 49,  2],\n",
       "       [29,  0,  1, ..., 13, 15, 69],\n",
       "       ...,\n",
       "       [30, 18, 26, ..., 54, 46, 53],\n",
       "       [31, 18, 18, ..., 32, 28, 19],\n",
       "       [25, 17, 18, ..., 28, 28, 40]], dtype=uint8)"
      ]
     },
     "execution_count": 2,
     "metadata": {},
     "output_type": "execute_result"
    }
   ],
   "source": [
    "ar"
   ]
  },
  {
   "cell_type": "code",
   "execution_count": 3,
   "id": "0f8380fa",
   "metadata": {},
   "outputs": [],
   "source": [
    "ar2 = np.array(ar)"
   ]
  },
  {
   "cell_type": "code",
   "execution_count": 4,
   "id": "782b9c25",
   "metadata": {},
   "outputs": [],
   "source": [
    "def shuffle_arr(arr):\n",
    "    row = len(arr)\n",
    "    col = len(arr[0])\n",
    "    for i in range(0,row):\n",
    "        for j in range(0,col):\n",
    "            arr[i][j] = ((row*row)+i+1)%256\n",
    "    for i in range(0,int(row/4)):\n",
    "        for j in range(int(col/4)):\n",
    "            arr[i][j] = (row*row + 1)%256 - arr[i][j]\n",
    "    for i in range(0, int(row/4)):\n",
    "        for j in range(3*int(col/3),col):\n",
    "            arr[i][j] = ((row*row)+1)%256-arr[i][j]\n",
    "    for i in range(3*(int(row/4)),row):\n",
    "        for i in range(0,int(col/4)):\n",
    "            arr[i][j] = (row*row+1)%256 - arr[i][j]\n",
    "    for i in range(int(row/4),3*int(row/4)):\n",
    "        for j in range(int(col/4),3*int(col/4)):\n",
    "            arr[i][j] = (row*row+1)%256 -arr[i][j]\n",
    "    \n",
    "    temp = np.array(arr)\n",
    "\n",
    "    for i in range(0,row):\n",
    "        for j in range(0,col):\n",
    "            rowindex = int((arr[i][j]-1)%row)\n",
    "            colindex = int((arr[i][j]-1)/col)\n",
    "            temp[i][j] = arr[rowindex][colindex]\n",
    "\n",
    "    return temp"
   ]
  },
  {
   "cell_type": "code",
   "execution_count": 5,
   "id": "68ec0151",
   "metadata": {},
   "outputs": [],
   "source": [
    "ar3 = shuffle_arr(ar2)"
   ]
  },
  {
   "cell_type": "code",
   "execution_count": 6,
   "id": "a08ea7ee",
   "metadata": {},
   "outputs": [
    {
     "data": {
      "text/plain": [
       "array([[  0,   0,   0, ...,   0,   0,   0],\n",
       "       [255, 255, 255, ..., 255, 255, 255],\n",
       "       [254, 254, 254, ..., 254, 254, 254],\n",
       "       ...,\n",
       "       [254, 254, 254, ..., 254, 254, 254],\n",
       "       [255, 255, 255, ..., 255, 255, 255],\n",
       "       [  0,   0,   0, ...,   0,   0,   0]], dtype=uint8)"
      ]
     },
     "execution_count": 6,
     "metadata": {},
     "output_type": "execute_result"
    }
   ],
   "source": [
    "ar3"
   ]
  },
  {
   "cell_type": "code",
   "execution_count": 7,
   "id": "2b8c9596",
   "metadata": {},
   "outputs": [],
   "source": [
    "shuffled_img3 = Image.fromarray(ar3)"
   ]
  },
  {
   "cell_type": "code",
   "execution_count": 8,
   "id": "bc5e59e0",
   "metadata": {},
   "outputs": [],
   "source": [
    "shuffled_img3.save('shuffeled_image3.png')"
   ]
  },
  {
   "cell_type": "code",
   "execution_count": 9,
   "id": "e8cd73d6",
   "metadata": {},
   "outputs": [],
   "source": [
    "def key_gen(r,c):\n",
    "    R = 3.99\n",
    "    random_float = random.uniform(0,1)\n",
    "    x = 0.4+(random_float/5)\n",
    "    key = np.zeros((r,c))\n",
    "    for i in range(0,r):\n",
    "        for j in range(0,c):\n",
    "            x = x*R*(1-x)\n",
    "            key[i][j] = x*255\n",
    "    \n",
    "    return key"
   ]
  },
  {
   "cell_type": "code",
   "execution_count": 10,
   "id": "22bd3f64",
   "metadata": {},
   "outputs": [
    {
     "name": "stdout",
     "output_type": "stream",
     "text": [
      "[[250.49840174  17.644299    65.52949051 ... 195.48346251 182.0456875\n",
      "  207.8088695 ]\n",
      " [153.44656692 243.82851923  42.6214243  ... 253.89466133   4.39118413\n",
      "   17.2191103 ]\n",
      " [ 64.06493222 191.39861287 190.47504675 ... 246.21500144  33.84456373\n",
      "  117.11681544]\n",
      " ...\n",
      " [162.56520484 235.12336794  73.12591407 ...  21.10797694  77.24933272\n",
      "  214.8516492 ]\n",
      " [134.97058092 253.48924423   5.99220295 ...  69.43351848 201.6050571\n",
      "  168.43574566]\n",
      " [228.14217161  95.87583977 238.7140719  ... 223.79019852 109.28606351\n",
      "  249.17162763]]\n"
     ]
    }
   ],
   "source": [
    "r = len(ar3)\n",
    "c = len(ar3[0])\n",
    "best_key = key_gen(r,c)\n",
    "print(best_key)"
   ]
  },
  {
   "cell_type": "code",
   "execution_count": 11,
   "id": "445ace7e",
   "metadata": {},
   "outputs": [],
   "source": [
    "def encrypt(ar3,key):\n",
    "    r = len(ar3)\n",
    "    c = len(ar3[0])\n",
    "    for i in range(0,r):\n",
    "        for j in range(0,c):\n",
    "            ar3[i][j] = int(ar3[i][j]) ^ int(key[i][j])\n",
    "            \n",
    "    cipher_img = np.array(ar3)\n",
    "    for itr in range(0,int(r/16)):\n",
    "        for i in range(0,r):\n",
    "            for j in range(0,c):\n",
    "                xmap = int((i+j)%r)\n",
    "                ymap = int((i+2*j)%c)\n",
    "                cipher_img[i][j] = cipher_img[xmap][ymap]\n",
    "                \n",
    "    \n",
    "    \n",
    "    return cipher_img"
   ]
  },
  {
   "cell_type": "code",
   "execution_count": 12,
   "id": "d79bddf3",
   "metadata": {},
   "outputs": [
    {
     "name": "stdout",
     "output_type": "stream",
     "text": [
      "[[250 237 168 ...  47 128 185]\n",
      " [120 161  77 ... 193 166 185]\n",
      " [ 11  27   5 ... 131 128 120]\n",
      " ...\n",
      " [139 171 239 ...  61 151  64]\n",
      " [201 192 168 ... 187 143  14]\n",
      " [184 237 209 ... 125 240 187]]\n"
     ]
    }
   ],
   "source": [
    "encrypted_img_arr = encrypt(ar3,best_key)\n",
    "print(encrypted_img_arr)"
   ]
  },
  {
   "cell_type": "code",
   "execution_count": 13,
   "id": "b7ef9805",
   "metadata": {},
   "outputs": [
    {
     "name": "stdout",
     "output_type": "stream",
     "text": [
      "from PIL import Image \n",
      "import random\n",
      "from numpy import array \n",
      "import numpy as np\n",
      "img = Image.open('Lena.png')\n",
      "\n",
      "ar = array(img)\n",
      "ar\n",
      "ar2 = np.array(ar)\n",
      "def shuffle_arr(arr):\n",
      "    row = len(arr)\n",
      "    col = len(arr[0])\n",
      "    for i in range(0,row):\n",
      "        for j in range(0,col):\n",
      "            arr[i][j] = ((row*row)+i+1)%256\n",
      "    for i in range(0,int(row/4)):\n",
      "        for j in range(int(col/4)):\n",
      "            arr[i][j] = (row*row + 1)%256 - arr[i][j]\n",
      "    for i in range(0, int(row/4)):\n",
      "        for j in range(3*int(col/3),col):\n",
      "            arr[i][j] = ((row*row)+1)%256-arr[i][j]\n",
      "    for i in range(3*(int(row/4)),row):\n",
      "        for i in range(0,int(col/4)):\n",
      "            arr[i][j] = (row*row+1)%256 - arr[i][j]\n",
      "    for i in range(int(row/4),3*int(row/4)):\n",
      "        for j in range(int(col/4),3*int(col/4)):\n",
      "            arr[i][j] = (row*row+1)%256 -arr[i][j]\n",
      "    \n",
      "    temp = np.array(arr)\n",
      "\n",
      "    for i in range(0,row):\n",
      "        for j in range(0,col):\n",
      "            rowindex = int((arr[i][j]-1)%row)\n",
      "            colindex = int((arr[i][j]-1)/col)\n",
      "            temp[i][j] = arr[rowindex][colindex]\n",
      "\n",
      "    return temp\n",
      "ar3 = shuffle_arr(ar2)\n",
      "ar3\n",
      "shuffled_img3 = Image.fromarray(ar3)\n",
      "shuffled_img3.save('shuffeled_image3.png')\n",
      "def key_gen(r,c):\n",
      "    R = 3.99\n",
      "    random_float = random.uniform(0,1)\n",
      "    x = 0.4+(random_float/5)\n",
      "    key = np.zeros((r,c))\n",
      "    for i in range(0,r):\n",
      "        for j in range(0,c):\n",
      "            x = x*R*(1-x)\n",
      "            key[i][j] = x*255\n",
      "    \n",
      "    return key\n",
      "r = len(ar3)\n",
      "c = len(ar3[0])\n",
      "best_key = key_gen(r,c)\n",
      "print(best_key)\n",
      "def encrypt(ar3,key):\n",
      "    r = len(ar3)\n",
      "    c = len(ar3[0])\n",
      "    for i in range(0,r):\n",
      "        for j in range(0,c):\n",
      "            ar3[i][j] = int(ar3[i][j]) ^ int(key[i][j])\n",
      "            \n",
      "    cipher_img = np.array(ar3)\n",
      "    for itr in range(0,int(r/16)):\n",
      "        for i in range(0,r):\n",
      "            for j in range(0,c):\n",
      "                xmap = int((i+j)%r)\n",
      "                ymap = int((i+2*j)%c)\n",
      "                cipher_img[i][j] = cipher_img[xmap][ymap]\n",
      "                \n",
      "    \n",
      "    \n",
      "    return cipher_img\n",
      "encrypted_img_arr = encrypt(ar3,best_key)\n",
      "print(encrypted_img_arr)\n",
      "encrypted_img = Image.fromarray(encrypted_img_arr)\n",
      "%hist\n"
     ]
    }
   ],
   "source": [
    "encrypted_img = Image.fromarray(encrypted_img_arr)\n",
    "%hist"
   ]
  },
  {
   "cell_type": "code",
   "execution_count": 14,
   "id": "ed1f0bf5",
   "metadata": {},
   "outputs": [],
   "source": [
    "encrypted_img.save('encrypted_img.png')"
   ]
  },
  {
   "cell_type": "code",
   "execution_count": 15,
   "id": "948497d8",
   "metadata": {},
   "outputs": [
    {
     "data": {
      "text/plain": [
       "(array([256., 253., 248., 274., 294., 285., 286., 225., 259., 248., 299.,\n",
       "        290., 292., 289., 292., 270., 281., 298., 238., 322., 256., 283.,\n",
       "        231., 315., 307., 304., 275., 260., 310., 257., 281., 249., 285.,\n",
       "        285., 264., 273., 325., 223., 282., 317., 270., 239., 253., 261.,\n",
       "        246., 295., 267., 294., 297., 260., 251., 302., 303., 272., 263.,\n",
       "        240., 299., 257., 323., 237., 262., 238., 290., 302., 315., 264.,\n",
       "        257., 241., 263., 350., 311., 240., 270., 289., 275., 252., 287.,\n",
       "        268., 250., 255., 227., 298., 296., 238., 275., 249., 307., 268.,\n",
       "        236., 270., 220., 292., 307., 264., 276., 269., 284., 226., 298.,\n",
       "        212., 273., 283., 237., 248., 260., 273., 261., 302., 238., 302.,\n",
       "        247., 293., 247., 257., 287., 238., 230., 205., 260., 236., 229.,\n",
       "        264., 298., 263., 282., 265., 299., 275., 254., 272., 250., 255.,\n",
       "        259., 234., 294., 255., 222., 288., 249., 248., 254., 217., 253.,\n",
       "        248., 238., 247., 258., 220., 248., 260., 231., 273., 257., 234.,\n",
       "        231., 224., 220., 184., 245., 263., 236., 224., 244., 267., 212.,\n",
       "        264., 219., 248., 276., 210., 251., 233., 260., 256., 262., 237.,\n",
       "        178., 217., 268., 260., 272., 258., 227., 264., 230., 195., 235.,\n",
       "        255., 239., 250., 274., 265., 238., 245., 246., 254., 272., 218.,\n",
       "        248., 215., 229., 251., 225., 213., 270., 225., 224., 237., 272.,\n",
       "        213., 243., 248., 201., 200., 221., 227., 225., 218., 235., 276.,\n",
       "        229., 194., 240., 255., 237., 266., 238., 235., 251., 230., 252.,\n",
       "        244., 235., 218., 254., 195., 214., 271., 235., 221., 252., 220.,\n",
       "        218., 268., 221., 230., 200., 243., 257., 248., 273., 258., 296.,\n",
       "        242., 244., 239.]),\n",
       " array([0.        , 0.00390625, 0.0078125 , 0.01171875, 0.015625  ,\n",
       "        0.01953125, 0.0234375 , 0.02734375, 0.03125   , 0.03515625,\n",
       "        0.0390625 , 0.04296875, 0.046875  , 0.05078125, 0.0546875 ,\n",
       "        0.05859375, 0.0625    , 0.06640625, 0.0703125 , 0.07421875,\n",
       "        0.078125  , 0.08203125, 0.0859375 , 0.08984375, 0.09375   ,\n",
       "        0.09765625, 0.1015625 , 0.10546875, 0.109375  , 0.11328125,\n",
       "        0.1171875 , 0.12109375, 0.125     , 0.12890625, 0.1328125 ,\n",
       "        0.13671875, 0.140625  , 0.14453125, 0.1484375 , 0.15234375,\n",
       "        0.15625   , 0.16015625, 0.1640625 , 0.16796875, 0.171875  ,\n",
       "        0.17578125, 0.1796875 , 0.18359375, 0.1875    , 0.19140625,\n",
       "        0.1953125 , 0.19921875, 0.203125  , 0.20703125, 0.2109375 ,\n",
       "        0.21484375, 0.21875   , 0.22265625, 0.2265625 , 0.23046875,\n",
       "        0.234375  , 0.23828125, 0.2421875 , 0.24609375, 0.25      ,\n",
       "        0.25390625, 0.2578125 , 0.26171875, 0.265625  , 0.26953125,\n",
       "        0.2734375 , 0.27734375, 0.28125   , 0.28515625, 0.2890625 ,\n",
       "        0.29296875, 0.296875  , 0.30078125, 0.3046875 , 0.30859375,\n",
       "        0.3125    , 0.31640625, 0.3203125 , 0.32421875, 0.328125  ,\n",
       "        0.33203125, 0.3359375 , 0.33984375, 0.34375   , 0.34765625,\n",
       "        0.3515625 , 0.35546875, 0.359375  , 0.36328125, 0.3671875 ,\n",
       "        0.37109375, 0.375     , 0.37890625, 0.3828125 , 0.38671875,\n",
       "        0.390625  , 0.39453125, 0.3984375 , 0.40234375, 0.40625   ,\n",
       "        0.41015625, 0.4140625 , 0.41796875, 0.421875  , 0.42578125,\n",
       "        0.4296875 , 0.43359375, 0.4375    , 0.44140625, 0.4453125 ,\n",
       "        0.44921875, 0.453125  , 0.45703125, 0.4609375 , 0.46484375,\n",
       "        0.46875   , 0.47265625, 0.4765625 , 0.48046875, 0.484375  ,\n",
       "        0.48828125, 0.4921875 , 0.49609375, 0.5       , 0.50390625,\n",
       "        0.5078125 , 0.51171875, 0.515625  , 0.51953125, 0.5234375 ,\n",
       "        0.52734375, 0.53125   , 0.53515625, 0.5390625 , 0.54296875,\n",
       "        0.546875  , 0.55078125, 0.5546875 , 0.55859375, 0.5625    ,\n",
       "        0.56640625, 0.5703125 , 0.57421875, 0.578125  , 0.58203125,\n",
       "        0.5859375 , 0.58984375, 0.59375   , 0.59765625, 0.6015625 ,\n",
       "        0.60546875, 0.609375  , 0.61328125, 0.6171875 , 0.62109375,\n",
       "        0.625     , 0.62890625, 0.6328125 , 0.63671875, 0.640625  ,\n",
       "        0.64453125, 0.6484375 , 0.65234375, 0.65625   , 0.66015625,\n",
       "        0.6640625 , 0.66796875, 0.671875  , 0.67578125, 0.6796875 ,\n",
       "        0.68359375, 0.6875    , 0.69140625, 0.6953125 , 0.69921875,\n",
       "        0.703125  , 0.70703125, 0.7109375 , 0.71484375, 0.71875   ,\n",
       "        0.72265625, 0.7265625 , 0.73046875, 0.734375  , 0.73828125,\n",
       "        0.7421875 , 0.74609375, 0.75      , 0.75390625, 0.7578125 ,\n",
       "        0.76171875, 0.765625  , 0.76953125, 0.7734375 , 0.77734375,\n",
       "        0.78125   , 0.78515625, 0.7890625 , 0.79296875, 0.796875  ,\n",
       "        0.80078125, 0.8046875 , 0.80859375, 0.8125    , 0.81640625,\n",
       "        0.8203125 , 0.82421875, 0.828125  , 0.83203125, 0.8359375 ,\n",
       "        0.83984375, 0.84375   , 0.84765625, 0.8515625 , 0.85546875,\n",
       "        0.859375  , 0.86328125, 0.8671875 , 0.87109375, 0.875     ,\n",
       "        0.87890625, 0.8828125 , 0.88671875, 0.890625  , 0.89453125,\n",
       "        0.8984375 , 0.90234375, 0.90625   , 0.91015625, 0.9140625 ,\n",
       "        0.91796875, 0.921875  , 0.92578125, 0.9296875 , 0.93359375,\n",
       "        0.9375    , 0.94140625, 0.9453125 , 0.94921875, 0.953125  ,\n",
       "        0.95703125, 0.9609375 , 0.96484375, 0.96875   , 0.97265625,\n",
       "        0.9765625 , 0.98046875, 0.984375  , 0.98828125, 0.9921875 ,\n",
       "        0.99609375, 1.        ]),\n",
       " <BarContainer object of 256 artists>)"
      ]
     },
     "execution_count": 15,
     "metadata": {},
     "output_type": "execute_result"
    },
    {
     "data": {
      "image/png": "[encoded data removed]",
      "text/plain": [
       "<Figure size 640x480 with 1 Axes>"
      ]
     },
     "metadata": {},
     "output_type": "display_data"
    }
   ],
   "source": [
    "import matplotlib.pyplot as plt #importing matplotlib\n",
    "img = plt.imread('encrypted_img.png')\n",
    "plt.hist(img.ravel(), bins=256, range=(0.0, 1.0), fc='k', ec='k') #calculating histogram"
   ]
  },
  {
   "cell_type": "code",
   "execution_count": null,
   "id": "f0fed77b",
   "metadata": {},
   "outputs": [],
   "source": []
  }
 ],
 "metadata": {
  "kernelspec": {
   "display_name": "Python 3 (ipykernel)",
   "language": "python",
   "name": "python3"
  },
  "language_info": {
   "codemirror_mode": {
    "name": "ipython",
    "version": 3
   },
   "file_extension": ".py",
   "mimetype": "text/x-python",
   "name": "python",
   "nbconvert_exporter": "python",
   "pygments_lexer": "ipython3",
   "version": "3.10.9"
  }
 },
 "nbformat": 4,
 "nbformat_minor": 5
}
